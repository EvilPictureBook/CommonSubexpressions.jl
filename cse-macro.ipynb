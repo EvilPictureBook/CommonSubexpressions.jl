{
 "cells": [
  {
   "cell_type": "code",
   "execution_count": 27,
   "metadata": {
    "collapsed": false
   },
   "outputs": [
    {
     "name": "stderr",
     "output_type": "stream",
     "text": [
      "WARNING: replacing module CombinedSubexpressions\n"
     ]
    },
    {
     "data": {
      "text/plain": [
       "CombinedSubexpressions"
      ]
     },
     "execution_count": 27,
     "metadata": {},
     "output_type": "execute_result"
    }
   ],
   "source": [
    "include(\"src/CombinedSubexpressions.jl\")"
   ]
  },
  {
   "cell_type": "code",
   "execution_count": 28,
   "metadata": {
    "collapsed": false
   },
   "outputs": [
    {
     "name": "stderr",
     "output_type": "stream",
     "text": [
      "WARNING: Method definition g(Any) in module Main at In[19]:2 overwritten at In[28]:2.\n",
      "WARNING: Method definition f(Any) in module Main at In[19]:7 overwritten at In[28]:7.\n",
      "WARNING: Method definition h(Any, Any) in module Main at In[19]:12 overwritten at In[28]:12.\n"
     ]
    },
    {
     "data": {
      "text/plain": [
       "quote  # In[28], line 19:\n",
       "    function foo(x) # In[28], line 20:\n",
       "        [h(h(f(g(x)),g(x)),i) == i for i = 1:5]\n",
       "    end\n",
       "end"
      ]
     },
     "execution_count": 28,
     "metadata": {},
     "output_type": "execute_result"
    }
   ],
   "source": [
    "function g(x)\n",
    "    println(\"g\")\n",
    "    1\n",
    "end\n",
    "\n",
    "function f(x)\n",
    "    println(\"f\")\n",
    "    2\n",
    "end\n",
    "\n",
    "function h(x, y)\n",
    "    println(\"h\")\n",
    "    3\n",
    "end\n",
    "\n",
    "x = 1\n",
    "\n",
    "expr = quote\n",
    "    function foo(x)\n",
    "        [h(h(f(g(x)), g(x)), i) == i for i in 1:5]\n",
    "    end\n",
    "end"
   ]
  },
  {
   "cell_type": "code",
   "execution_count": 29,
   "metadata": {
    "collapsed": false
   },
   "outputs": [
    {
     "data": {
      "text/plain": [
       "quote \n",
       "    begin  # In[28], line 19:\n",
       "        function foo(x)\n",
       "            ##gx#288 = g(x)\n",
       "            ##f##gx#288#289 = f(##gx#288)\n",
       "            ##h##f##gx#288#289##gx#288#290 = h(##f##gx#288#289,##gx#288)\n",
       "            begin  # In[28], line 20:\n",
       "                [h(##h##f##gx#288#289##gx#288#290,i) == i for i = 1:5]\n",
       "            end\n",
       "        end\n",
       "    end\n",
       "end"
      ]
     },
     "execution_count": 29,
     "metadata": {},
     "output_type": "execute_result"
    }
   ],
   "source": [
    "CombinedSubexpressions.cacheify!(expr)"
   ]
  },
  {
   "cell_type": "code",
   "execution_count": 30,
   "metadata": {
    "collapsed": false
   },
   "outputs": [
    {
     "name": "stdout",
     "output_type": "stream",
     "text": [
      "begin \n",
      "    function foo(x)\n",
      "        ##fx#291 = f(x)\n",
      "        begin  # In[30], line 2:\n",
      "            [##fx#291 == i for i = 1:5]\n",
      "        end\n",
      "    end\n",
      "end\n"
     ]
    },
    {
     "name": "stderr",
     "output_type": "stream",
     "text": [
      "WARNING: Method definition foo(Any) in module Main at In[21]:2 overwritten at In[30]:2.\n"
     ]
    },
    {
     "data": {
      "text/plain": [
       "foo (generic function with 1 method)"
      ]
     },
     "execution_count": 30,
     "metadata": {},
     "output_type": "execute_result"
    }
   ],
   "source": [
    "@CombinedSubexpressions.cse function foo(x)\n",
    "    [f(x) == i for i in 1:5]\n",
    "end"
   ]
  },
  {
   "cell_type": "code",
   "execution_count": 31,
   "metadata": {
    "collapsed": false
   },
   "outputs": [
    {
     "name": "stdout",
     "output_type": "stream",
     "text": [
      "f\n"
     ]
    },
    {
     "data": {
      "text/plain": [
       "5-element Array{Bool,1}:\n",
       " false\n",
       "  true\n",
       " false\n",
       " false\n",
       " false"
      ]
     },
     "execution_count": 31,
     "metadata": {},
     "output_type": "execute_result"
    }
   ],
   "source": [
    "foo(1)"
   ]
  },
  {
   "cell_type": "code",
   "execution_count": 32,
   "metadata": {
    "collapsed": false
   },
   "outputs": [
    {
     "name": "stdout",
     "output_type": "stream",
     "text": [
      "begin \n",
      "    ##gx#292 = g(x)\n",
      "    ##f##gx#292#293 = f(##gx#292)\n",
      "    ##h##f##gx#292#293##gx#292#294 = h(##f##gx#292#293,##gx#292)\n",
      "    begin  # In[32], line 2:\n",
      "        [h(##h##f##gx#292#293##gx#292#294,i) == i for i = 1:5]\n",
      "    end\n",
      "end\n",
      "g\n",
      "f\n",
      "h\n",
      "h\n",
      "h\n",
      "h\n",
      "h\n",
      "h\n"
     ]
    },
    {
     "data": {
      "text/plain": [
       "5-element Array{Bool,1}:\n",
       " false\n",
       " false\n",
       "  true\n",
       " false\n",
       " false"
      ]
     },
     "execution_count": 32,
     "metadata": {},
     "output_type": "execute_result"
    }
   ],
   "source": [
    "@CombinedSubexpressions.cse begin\n",
    "    [h(h(f(g(x)), g(x)), i) == i for i in 1:5]\n",
    "end"
   ]
  },
  {
   "cell_type": "code",
   "execution_count": 33,
   "metadata": {
    "collapsed": false
   },
   "outputs": [
    {
     "name": "stdout",
     "output_type": "stream",
     "text": [
      "begin \n",
      "    ##zeros5#295 = zeros(5)\n",
      "    ##g5#296 = g(5)\n",
      "    begin  # In[33], line 2:\n",
      "        x = ##zeros5#295 # In[33], line 3:\n",
      "        for i = 1:5 # In[33], line 4:\n",
      "            x[i] = f(x[i]) + ##g5#296\n",
      "        end\n",
      "    end\n",
      "end\n",
      "g\n",
      "f\n",
      "f\n",
      "f\n",
      "f\n",
      "f\n"
     ]
    }
   ],
   "source": [
    "@CombinedSubexpressions.cse begin\n",
    "    x = zeros(5)\n",
    "    for i in 1:5\n",
    "        x[i] = f(x[i]) + g(5)\n",
    "    end\n",
    "end"
   ]
  },
  {
   "cell_type": "code",
   "execution_count": null,
   "metadata": {
    "collapsed": true
   },
   "outputs": [],
   "source": []
  },
  {
   "cell_type": "code",
   "execution_count": null,
   "metadata": {
    "collapsed": true
   },
   "outputs": [],
   "source": []
  }
 ],
 "metadata": {
  "kernelspec": {
   "display_name": "Julia 0.5.0",
   "language": "julia",
   "name": "julia-0.5"
  },
  "language_info": {
   "file_extension": ".jl",
   "mimetype": "application/julia",
   "name": "julia",
   "version": "0.5.0"
  }
 },
 "nbformat": 4,
 "nbformat_minor": 1
}

{
 "cells": [
  {
   "cell_type": "code",
   "execution_count": 25,
   "metadata": {
    "collapsed": false
   },
   "outputs": [
    {
     "name": "stderr",
     "output_type": "stream",
     "text": [
      "WARNING: replacing module CombinedSubexpressions\n"
     ]
    },
    {
     "data": {
      "text/plain": [
       "CombinedSubexpressions"
      ]
     },
     "execution_count": 25,
     "metadata": {},
     "output_type": "execute_result"
    }
   ],
   "source": [
    "include(\"src/CombinedSubexpressions.jl\")"
   ]
  },
  {
   "cell_type": "code",
   "execution_count": 27,
   "metadata": {
    "collapsed": false
   },
   "outputs": [
    {
     "name": "stdout",
     "output_type": "stream",
     "text": [
      "begin \n",
      "    ##invH#301 = inv(H)\n",
      "    ##*##invH#301G#302 = ##invH#301 * G\n",
      "    ##+##invH#301W#303 = ##invH#301 + W\n",
      "    ##*W##+##invH#301W#303#304 = W * ##+##invH#301W#303\n",
      "    ##+##*##invH#301G#302##*W##+##invH#301W#303#304#305 = ##*##invH#301G#302 + ##*W##+##invH#301W#303#304\n",
      "    ##+##*##invH#301G#302##*W##+##invH#301W#303#304#305\n",
      "end\n"
     ]
    },
    {
     "ename": "LoadError",
     "evalue": "UndefVarError: H not defined",
     "output_type": "error",
     "traceback": [
      "UndefVarError: H not defined",
      ""
     ]
    }
   ],
   "source": [
    "@CombinedSubexpressions.cse inv(H) * G + W * (inv(H) + W)"
   ]
  },
  {
   "cell_type": "code",
   "execution_count": 28,
   "metadata": {
    "collapsed": false
   },
   "outputs": [
    {
     "name": "stderr",
     "output_type": "stream",
     "text": [
      "WARNING: Method definition g(Any) in module Main at In[18]:2 overwritten at In[28]:2.\n",
      "WARNING: Method definition f(Any) in module Main at In[18]:7 overwritten at In[28]:7.\n",
      "WARNING: Method definition h(Any, Any) in module Main at In[18]:12 overwritten at In[28]:12.\n"
     ]
    },
    {
     "data": {
      "text/plain": [
       "quote  # In[28], line 19:\n",
       "    function foo(x) # In[28], line 20:\n",
       "        [h(h(f(g(x)),g(x)),i) == i for i = 1:5]\n",
       "    end\n",
       "end"
      ]
     },
     "execution_count": 28,
     "metadata": {},
     "output_type": "execute_result"
    }
   ],
   "source": [
    "function g(x)\n",
    "    println(\"g\")\n",
    "    1\n",
    "end\n",
    "\n",
    "function f(x)\n",
    "    println(\"f\")\n",
    "    2\n",
    "end\n",
    "\n",
    "function h(x, y)\n",
    "    println(\"h\")\n",
    "    3\n",
    "end\n",
    "\n",
    "x = 1\n",
    "\n",
    "expr = quote\n",
    "    function foo(x)\n",
    "        [h(h(f(g(x)), g(x)), i) == i for i in 1:5]\n",
    "    end\n",
    "end"
   ]
  },
  {
   "cell_type": "code",
   "execution_count": 29,
   "metadata": {
    "collapsed": false
   },
   "outputs": [
    {
     "data": {
      "text/plain": [
       "quote \n",
       "    begin  # In[28], line 19:\n",
       "        function foo(x)\n",
       "            ##gx#306 = g(x)\n",
       "            ##f##gx#306#307 = f(##gx#306)\n",
       "            ##h##f##gx#306#307##gx#306#308 = h(##f##gx#306#307,##gx#306)\n",
       "            begin  # In[28], line 20:\n",
       "                [h(##h##f##gx#306#307##gx#306#308,i) == i for i = 1:5]\n",
       "            end\n",
       "        end\n",
       "    end\n",
       "end"
      ]
     },
     "execution_count": 29,
     "metadata": {},
     "output_type": "execute_result"
    }
   ],
   "source": [
    "CombinedSubexpressions.cacheify!(expr)"
   ]
  },
  {
   "cell_type": "code",
   "execution_count": 30,
   "metadata": {
    "collapsed": false
   },
   "outputs": [
    {
     "name": "stdout",
     "output_type": "stream",
     "text": [
      "begin \n",
      "    function foo(x)\n",
      "        ##fx#309 = f(x)\n",
      "        begin  # In[30], line 2:\n",
      "            [##fx#309 == i for i = 1:5]\n",
      "        end\n",
      "    end\n",
      "end\n"
     ]
    },
    {
     "name": "stderr",
     "output_type": "stream",
     "text": [
      "WARNING: Method definition foo(Any) in module Main at In[20]:2 overwritten at In[30]:2.\n"
     ]
    },
    {
     "data": {
      "text/plain": [
       "foo (generic function with 1 method)"
      ]
     },
     "execution_count": 30,
     "metadata": {},
     "output_type": "execute_result"
    }
   ],
   "source": [
    "@CombinedSubexpressions.cse function foo(x)\n",
    "    [f(x) == i for i in 1:5]\n",
    "end"
   ]
  },
  {
   "cell_type": "code",
   "execution_count": 31,
   "metadata": {
    "collapsed": false
   },
   "outputs": [
    {
     "name": "stdout",
     "output_type": "stream",
     "text": [
      "f\n"
     ]
    },
    {
     "data": {
      "text/plain": [
       "5-element Array{Bool,1}:\n",
       " false\n",
       "  true\n",
       " false\n",
       " false\n",
       " false"
      ]
     },
     "execution_count": 31,
     "metadata": {},
     "output_type": "execute_result"
    }
   ],
   "source": [
    "foo(1)"
   ]
  },
  {
   "cell_type": "code",
   "execution_count": 32,
   "metadata": {
    "collapsed": false
   },
   "outputs": [
    {
     "name": "stdout",
     "output_type": "stream",
     "text": [
      "begin \n",
      "    ##gx#310 = g(x)\n",
      "    ##f##gx#310#311 = f(##gx#310)\n",
      "    ##h##f##gx#310#311##gx#310#312 = h(##f##gx#310#311,##gx#310)\n",
      "    begin  # In[32], line 2:\n",
      "        [h(##h##f##gx#310#311##gx#310#312,i) == i for i = 1:5]\n",
      "    end\n",
      "end\n",
      "g\n",
      "f\n",
      "h\n",
      "h\n",
      "h\n",
      "h\n",
      "h\n",
      "h\n"
     ]
    },
    {
     "data": {
      "text/plain": [
       "5-element Array{Bool,1}:\n",
       " false\n",
       " false\n",
       "  true\n",
       " false\n",
       " false"
      ]
     },
     "execution_count": 32,
     "metadata": {},
     "output_type": "execute_result"
    }
   ],
   "source": [
    "@CombinedSubexpressions.cse begin\n",
    "    [h(h(f(g(x)), g(x)), i) == i for i in 1:5]\n",
    "end"
   ]
  },
  {
   "cell_type": "code",
   "execution_count": 33,
   "metadata": {
    "collapsed": false
   },
   "outputs": [
    {
     "name": "stdout",
     "output_type": "stream",
     "text": [
      "begin \n",
      "    ##zeros5#313 = zeros(5)\n",
      "    ##g5#314 = g(5)\n",
      "    begin  # In[33], line 2:\n",
      "        x = ##zeros5#313 # In[33], line 3:\n",
      "        for i = 1:5 # In[33], line 4:\n",
      "            x[i] = f(x[i]) + ##g5#314\n",
      "        end\n",
      "    end\n",
      "end\n",
      "g\n",
      "f\n",
      "f\n",
      "f\n",
      "f\n",
      "f\n"
     ]
    }
   ],
   "source": [
    "@CombinedSubexpressions.cse begin\n",
    "    x = zeros(5)\n",
    "    for i in 1:5\n",
    "        x[i] = f(x[i]) + g(5)\n",
    "    end\n",
    "end"
   ]
  },
  {
   "cell_type": "code",
   "execution_count": 34,
   "metadata": {
    "collapsed": false
   },
   "outputs": [
    {
     "name": "stdout",
     "output_type": "stream",
     "text": [
      "begin \n",
      "    function bar(y)\n",
      "        ##zeros5#315 = zeros(5)\n",
      "        ##g5#316 = g(5)\n",
      "        begin  # In[34], line 2:\n",
      "            x = ##zeros5#315 # In[34], line 3:\n",
      "            for i = 1:5 # In[34], line 4:\n",
      "                x[i] = f(x[i]) + ##g5#316\n",
      "            end\n",
      "        end\n",
      "    end\n",
      "end\n"
     ]
    },
    {
     "name": "stderr",
     "output_type": "stream",
     "text": [
      "WARNING: Method definition bar(Any) in module Main at In[24]:2 overwritten at In[34]:2.\n"
     ]
    },
    {
     "data": {
      "text/plain": [
       "bar (generic function with 1 method)"
      ]
     },
     "execution_count": 34,
     "metadata": {},
     "output_type": "execute_result"
    }
   ],
   "source": [
    "@CombinedSubexpressions.cse function bar(y)\n",
    "    x = zeros(5)\n",
    "    for i in 1:5\n",
    "        x[i] = f(x[i]) + g(5)\n",
    "    end\n",
    "end"
   ]
  },
  {
   "cell_type": "code",
   "execution_count": 35,
   "metadata": {
    "collapsed": false
   },
   "outputs": [
    {
     "name": "stdout",
     "output_type": "stream",
     "text": [
      "Variables:\n",
      "  #self#::#bar\n",
      "  y::Int64\n",
      "  zeros5#315::Array{Float64,1}\n",
      "  g5#316::Int64\n",
      "  x::Array{Float64,1}\n",
      "  #temp#::Int64\n",
      "  i::Int64\n",
      "\n",
      "Body:\n",
      "  begin \n",
      "      zeros5#315::Array{Float64,1} = $(Expr(:invoke, LambdaInfo for fill!(::Array{Float64,1}, ::Float64), :(Base.fill!), :((Core.ccall)(:jl_alloc_array_1d,(Core.apply_type)(Core.Array,Float64,1)::Type{Array{Float64,1}},(Core.svec)(Core.Any,Core.Int)::SimpleVector,Array{Float64,1},0,5,0)::Array{Float64,1}), :((Base.box)(Float64,(Base.sitofp)(Float64,0)))))\n",
      "      # meta: location In[28] g 2\n",
      "      # meta: location coreio.jl println 5\n",
      "      SSAValue(4) = (Core.typeassert)(Base.STDOUT,Base.IO)\u001b[1m\u001b[31m::IO\u001b[0m\n",
      "      # meta: pop location\n",
      "      (Base.print)(SSAValue(4),\"g\",'\\n')::Void\n",
      "      # meta: pop location\n",
      "      g5#316::Int64 = 1\n",
      "      # meta: location In[34]\n",
      "      x::Array{Float64,1} = zeros5#315::Array{Float64,1} # line 3:\n",
      "      SSAValue(6) = (Base.select_value)((Base.sle_int)(1,5)::Bool,5,(Base.box)(Int64,(Base.sub_int)(1,1)))::Int64\n",
      "      #temp#::Int64 = 1\n",
      "      14: \n",
      "      unless (Base.box)(Base.Bool,(Base.not_int)((#temp#::Int64 === (Base.box)(Int64,(Base.add_int)(SSAValue(6),1)))::Bool)) goto 31\n",
      "      SSAValue(7) = #temp#::Int64\n",
      "      SSAValue(8) = (Base.box)(Int64,(Base.add_int)(#temp#::Int64,1))\n",
      "      i::Int64 = SSAValue(7)\n",
      "      #temp#::Int64 = SSAValue(8) # line 4:\n",
      "      # meta: location In[28] f 7\n",
      "      # meta: location coreio.jl println 5\n",
      "      SSAValue(5) = (Core.typeassert)(Base.STDOUT,Base.IO)\u001b[1m\u001b[31m::IO\u001b[0m\n",
      "      # meta: pop location\n",
      "      (Base.print)(SSAValue(5),\"f\",'\\n')::Void\n",
      "      # meta: pop location\n",
      "      SSAValue(2) = (Base.box)(Int64,(Base.add_int)(2,g5#316::Int64))\n",
      "      (Base.arrayset)(x::Array{Float64,1},(Base.box)(Float64,(Base.sitofp)(Float64,SSAValue(2))),i::Int64)::Array{Float64,1}\n",
      "      29: \n",
      "      goto 14\n",
      "      31: \n",
      "      # meta: pop location\n",
      "      return\n",
      "  end::Void\n"
     ]
    }
   ],
   "source": [
    "@code_warntype bar(1)"
   ]
  },
  {
   "cell_type": "code",
   "execution_count": null,
   "metadata": {
    "collapsed": true
   },
   "outputs": [],
   "source": []
  }
 ],
 "metadata": {
  "kernelspec": {
   "display_name": "Julia 0.5.0",
   "language": "julia",
   "name": "julia-0.5"
  },
  "language_info": {
   "file_extension": ".jl",
   "mimetype": "application/julia",
   "name": "julia",
   "version": "0.5.0"
  }
 },
 "nbformat": 4,
 "nbformat_minor": 1
}

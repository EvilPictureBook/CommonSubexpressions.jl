{
 "cells": [
  {
   "cell_type": "code",
   "execution_count": 103,
   "metadata": {
    "collapsed": false
   },
   "outputs": [
    {
     "name": "stderr",
     "output_type": "stream",
     "text": [
      "WARNING: replacing module cse\n"
     ]
    },
    {
     "data": {
      "text/plain": [
       "cse"
      ]
     },
     "execution_count": 103,
     "metadata": {},
     "output_type": "execute_result"
    }
   ],
   "source": [
    "module cse\n",
    "\n",
    "using DataStructures: OrderedDict\n",
    "\n",
    "immutable CacheElement\n",
    "    name::Symbol\n",
    "    expr::Nullable{Expr}\n",
    "end\n",
    "\n",
    "typealias Cache OrderedDict{Symbol, CacheElement}\n",
    "\n",
    "cacheify!(setup, expr) = expr\n",
    "\n",
    "function cacheify!(setup::Cache, expr::Expr)\n",
    "    is_function = expr.head == :call\n",
    "    takes_one_arg = length(expr.args) == 2\n",
    "    function_name = expr.args[1]\n",
    "    arg_name = expr.args[2]\n",
    "    uses_avialable_arg = any(arg_name == s.name for s in values(setup))\n",
    "    can_be_cached = is_function && takes_one_arg && uses_avialable_arg\n",
    "    if can_be_cached\n",
    "        cached_name = Symbol(function_name, arg_name)\n",
    "        if !haskey(setup, cached_name)\n",
    "            cached_varname = gensym(cached_name)\n",
    "            setup[cached_name] = CacheElement(cached_varname, :($cached_varname = $(copy(expr))))\n",
    "        else\n",
    "            cached_varname = setup[cached_name].name\n",
    "        end\n",
    "        cached_varname\n",
    "    else\n",
    "        for (i, child) in enumerate(expr.args)\n",
    "            expr.args[i] = cacheify!(setup, child)\n",
    "        end\n",
    "        expr\n",
    "    end\n",
    "end\n",
    "    \n",
    "    disqualify_symbols!(available, disqualified, expr) = nothing\n",
    "    disqualify_symbols!(available, disqualified, expr::Symbol) = push!(disqualified, expr)\n",
    "    \n",
    "    \n",
    "    function disqualify_symbols!(available, disqualified, expr::Expr)\n",
    "        for arg in expr.args\n",
    "            disqualify_symbols!(available, disqualified, arg)\n",
    "        end\n",
    "    end\n",
    "    \n",
    "    available_leaf_symbols!(available, disqualified, expr) = nothing\n",
    "    available_leaf_symbols!(available, disqualified, expr::Symbol) = push!(available, expr)\n",
    "\n",
    "    function available_leaf_symbols!(available, disqualified, expr::Expr)\n",
    "        if expr.head == :line\n",
    "            # nothing\n",
    "        elseif expr.head == :(=)\n",
    "            disqualify_symbols!(available, disqualified, expr.args[1])\n",
    "            for arg in expr.args[2:end]\n",
    "                available_leaf_symbols!(available, disqualified, arg)\n",
    "            end\n",
    "        else\n",
    "            for arg in expr.args\n",
    "                available_leaf_symbols!(available, disqualified, arg)\n",
    "            end\n",
    "        end\n",
    "    end\n",
    "        \n",
    "    function available_leaf_symbols(expr)\n",
    "        available = Set{Symbol}()\n",
    "        disqualified = Set{Symbol}()\n",
    "        available_leaf_symbols!(available, disqualified, expr)\n",
    "        setdiff!(available, disqualified)\n",
    "    end\n",
    "    \n",
    "function cacheify(expr::Expr)\n",
    "    expr = copy(expr)\n",
    "    setup = Cache()\n",
    "        for var in available_leaf_symbols(expr)\n",
    "            setup[var] = CacheElement(var, nothing)\n",
    "        end\n",
    "    while true\n",
    "        num_setup = length(setup)\n",
    "        expr = cacheify!(setup, expr)\n",
    "        if length(setup) == num_setup\n",
    "            break\n",
    "        end\n",
    "    end\n",
    "        Expr(:block, [get(v.expr) for v in values(setup) if !isnull(v.expr)]..., expr)\n",
    "end\n",
    "    \n",
    "\n",
    "    \n",
    "end"
   ]
  },
  {
   "cell_type": "code",
   "execution_count": 106,
   "metadata": {
    "collapsed": false
   },
   "outputs": [
    {
     "name": "stderr",
     "output_type": "stream",
     "text": [
      "WARNING: Method definition g(Any) in module Main at In[104]:2 overwritten at In[106]:2.\n",
      "WARNING: Method definition f(Any) in module Main at In[104]:7 overwritten at In[106]:7.\n"
     ]
    },
    {
     "data": {
      "text/plain": [
       "quote  # In[106], line 12:\n",
       "    gee = g(x) # In[106], line 13:\n",
       "    effgee = f(g(x)) # In[106], line 14:\n",
       "    for i = 1:100 # In[106], line 15:\n",
       "        f(g(x)) == i\n",
       "    end\n",
       "end"
      ]
     },
     "execution_count": 106,
     "metadata": {},
     "output_type": "execute_result"
    }
   ],
   "source": [
    "function g(x)\n",
    "    println(\"g\")\n",
    "    1\n",
    "end\n",
    "\n",
    "function f(x)\n",
    "    println(\"f\")\n",
    "    2\n",
    "end\n",
    "\n",
    "expr = quote\n",
    "    gee = g(x)\n",
    "    effgee = f(g(x))\n",
    "    for i in 1:100\n",
    "        f(g(x)) == i\n",
    "    end\n",
    "end"
   ]
  },
  {
   "cell_type": "code",
   "execution_count": 107,
   "metadata": {
    "collapsed": false
   },
   "outputs": [
    {
     "data": {
      "text/plain": [
       "quote \n",
       "    ##gx#293 = g(x)\n",
       "    ##f##gx#293#294 = f(##gx#293)\n",
       "    begin  # In[106], line 12:\n",
       "        gee = ##gx#293 # In[106], line 13:\n",
       "        effgee = ##f##gx#293#294 # In[106], line 14:\n",
       "        for i = 1:100 # In[106], line 15:\n",
       "            ##f##gx#293#294 == i\n",
       "        end\n",
       "    end\n",
       "end"
      ]
     },
     "execution_count": 107,
     "metadata": {},
     "output_type": "execute_result"
    }
   ],
   "source": [
    "cse.cacheify(expr)"
   ]
  },
  {
   "cell_type": "code",
   "execution_count": null,
   "metadata": {
    "collapsed": true
   },
   "outputs": [],
   "source": []
  }
 ],
 "metadata": {
  "kernelspec": {
   "display_name": "Julia 0.5.0",
   "language": "julia",
   "name": "julia-0.5"
  },
  "language_info": {
   "file_extension": ".jl",
   "mimetype": "application/julia",
   "name": "julia",
   "version": "0.5.0"
  }
 },
 "nbformat": 4,
 "nbformat_minor": 1
}

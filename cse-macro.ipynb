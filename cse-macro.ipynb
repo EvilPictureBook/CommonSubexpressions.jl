{
 "cells": [
  {
   "cell_type": "code",
   "execution_count": 41,
   "metadata": {
    "collapsed": false
   },
   "outputs": [
    {
     "name": "stderr",
     "output_type": "stream",
     "text": [
      "WARNING: replacing module CombinedSubexpressions\n"
     ]
    },
    {
     "data": {
      "text/plain": [
       "CombinedSubexpressions"
      ]
     },
     "execution_count": 41,
     "metadata": {},
     "output_type": "execute_result"
    }
   ],
   "source": [
    "include(\"src/CombinedSubexpressions.jl\")"
   ]
  },
  {
   "cell_type": "code",
   "execution_count": 42,
   "metadata": {
    "collapsed": false
   },
   "outputs": [
    {
     "name": "stdout",
     "output_type": "stream",
     "text": [
      "begin \n",
      "    ##invH#319 = inv(H)\n",
      "    ##*##invH#319G#320 = ##invH#319 * G\n",
      "    ##+##invH#319W#321 = ##invH#319 + W\n",
      "    ##*W##+##invH#319W#321#322 = W * ##+##invH#319W#321\n",
      "    ##+##*##invH#319G#320##*W##+##invH#319W#321#322#323 = ##*##invH#319G#320 + ##*W##+##invH#319W#321#322\n",
      "    ##+##*##invH#319G#320##*W##+##invH#319W#321#322#323\n",
      "end\n"
     ]
    },
    {
     "ename": "LoadError",
     "evalue": "UndefVarError: H not defined",
     "output_type": "error",
     "traceback": [
      "UndefVarError: H not defined",
      ""
     ]
    }
   ],
   "source": [
    "@CombinedSubexpressions.cse inv(H) * G + W * (inv(H) + W)"
   ]
  },
  {
   "cell_type": "code",
   "execution_count": 43,
   "metadata": {
    "collapsed": false
   },
   "outputs": [
    {
     "name": "stderr",
     "output_type": "stream",
     "text": [
      "WARNING: Method definition g(Any) in module Main at In[28]:2 overwritten at In[43]:2.\n",
      "WARNING: Method definition f(Any) in module Main at In[28]:7 overwritten at In[43]:7.\n",
      "WARNING: Method definition h(Any, Any) in module Main at In[28]:12 overwritten at In[43]:12.\n"
     ]
    },
    {
     "data": {
      "text/plain": [
       "quote  # In[43], line 19:\n",
       "    function foo(x) # In[43], line 20:\n",
       "        [h(h(f(g(x)),g(x)),i) == i for i = 1:5]\n",
       "    end\n",
       "end"
      ]
     },
     "execution_count": 43,
     "metadata": {},
     "output_type": "execute_result"
    }
   ],
   "source": [
    "function g(x)\n",
    "    println(\"g\")\n",
    "    1\n",
    "end\n",
    "\n",
    "function f(x)\n",
    "    println(\"f\")\n",
    "    2\n",
    "end\n",
    "\n",
    "function h(x, y)\n",
    "    println(\"h\")\n",
    "    3\n",
    "end\n",
    "\n",
    "x = 1\n",
    "\n",
    "expr = quote\n",
    "    function foo(x)\n",
    "        [h(h(f(g(x)), g(x)), i) == i for i in 1:5]\n",
    "    end\n",
    "end"
   ]
  },
  {
   "cell_type": "code",
   "execution_count": 44,
   "metadata": {
    "collapsed": false
   },
   "outputs": [
    {
     "data": {
      "text/plain": [
       "quote \n",
       "    begin  # In[43], line 19:\n",
       "        function foo(x)\n",
       "            ##gx#324 = g(x)\n",
       "            ##f##gx#324#325 = f(##gx#324)\n",
       "            ##h##f##gx#324#325##gx#324#326 = h(##f##gx#324#325,##gx#324)\n",
       "            begin  # In[43], line 20:\n",
       "                [h(##h##f##gx#324#325##gx#324#326,i) == i for i = 1:5]\n",
       "            end\n",
       "        end\n",
       "    end\n",
       "end"
      ]
     },
     "execution_count": 44,
     "metadata": {},
     "output_type": "execute_result"
    }
   ],
   "source": [
    "CombinedSubexpressions.cacheify!(expr)"
   ]
  },
  {
   "cell_type": "code",
   "execution_count": 45,
   "metadata": {
    "collapsed": false
   },
   "outputs": [
    {
     "name": "stdout",
     "output_type": "stream",
     "text": [
      "begin \n",
      "    function foo(x)\n",
      "        ##fx#327 = f(x)\n",
      "        begin  # In[45], line 2:\n",
      "            [##fx#327 == i for i = 1:5]\n",
      "        end\n",
      "    end\n",
      "end\n"
     ]
    },
    {
     "name": "stderr",
     "output_type": "stream",
     "text": [
      "WARNING: Method definition foo(Any) in module Main at In[30]:2 overwritten at In[45]:2.\n"
     ]
    },
    {
     "data": {
      "text/plain": [
       "foo (generic function with 1 method)"
      ]
     },
     "execution_count": 45,
     "metadata": {},
     "output_type": "execute_result"
    }
   ],
   "source": [
    "@CombinedSubexpressions.cse function foo(x)\n",
    "    [f(x) == i for i in 1:5]\n",
    "end"
   ]
  },
  {
   "cell_type": "code",
   "execution_count": 46,
   "metadata": {
    "collapsed": false
   },
   "outputs": [
    {
     "name": "stdout",
     "output_type": "stream",
     "text": [
      "f\n"
     ]
    },
    {
     "data": {
      "text/plain": [
       "5-element Array{Bool,1}:\n",
       " false\n",
       "  true\n",
       " false\n",
       " false\n",
       " false"
      ]
     },
     "execution_count": 46,
     "metadata": {},
     "output_type": "execute_result"
    }
   ],
   "source": [
    "foo(1)"
   ]
  },
  {
   "cell_type": "code",
   "execution_count": 47,
   "metadata": {
    "collapsed": false
   },
   "outputs": [
    {
     "name": "stdout",
     "output_type": "stream",
     "text": [
      "begin \n",
      "    ##gx#328 = g(x)\n",
      "    ##f##gx#328#329 = f(##gx#328)\n",
      "    ##h##f##gx#328#329##gx#328#330 = h(##f##gx#328#329,##gx#328)\n",
      "    begin  # In[47], line 2:\n",
      "        [h(##h##f##gx#328#329##gx#328#330,i) == i for i = 1:5]\n",
      "    end\n",
      "end\n",
      "g\n",
      "f\n",
      "h\n",
      "h\n",
      "h\n",
      "h\n",
      "h\n",
      "h\n"
     ]
    },
    {
     "data": {
      "text/plain": [
       "5-element Array{Bool,1}:\n",
       " false\n",
       " false\n",
       "  true\n",
       " false\n",
       " false"
      ]
     },
     "execution_count": 47,
     "metadata": {},
     "output_type": "execute_result"
    }
   ],
   "source": [
    "@CombinedSubexpressions.cse begin\n",
    "    [h(h(f(g(x)), g(x)), i) == i for i in 1:5]\n",
    "end"
   ]
  },
  {
   "cell_type": "code",
   "execution_count": 48,
   "metadata": {
    "collapsed": false
   },
   "outputs": [
    {
     "name": "stdout",
     "output_type": "stream",
     "text": [
      "begin \n",
      "    ##zeros5#331 = zeros(5)\n",
      "    ##g5#332 = g(5)\n",
      "    begin  # In[48], line 2:\n",
      "        x = ##zeros5#331 # In[48], line 3:\n",
      "        for i = 1:5 # In[48], line 4:\n",
      "            x[i] = f(x[i]) + ##g5#332\n",
      "        end\n",
      "    end\n",
      "end\n",
      "g\n",
      "f\n",
      "f\n",
      "f\n",
      "f\n",
      "f\n"
     ]
    }
   ],
   "source": [
    "@CombinedSubexpressions.cse begin\n",
    "    x = zeros(5)\n",
    "    for i in 1:5\n",
    "        x[i] = f(x[i]) + g(5)\n",
    "    end\n",
    "end"
   ]
  },
  {
   "cell_type": "code",
   "execution_count": 49,
   "metadata": {
    "collapsed": false
   },
   "outputs": [
    {
     "name": "stdout",
     "output_type": "stream",
     "text": [
      "begin \n",
      "    function bar(y)\n",
      "        ##zeros5#333 = zeros(5)\n",
      "        ##g5#334 = g(5)\n",
      "        begin  # In[49], line 2:\n",
      "            x = ##zeros5#333 # In[49], line 3:\n",
      "            for i = 1:5 # In[49], line 4:\n",
      "                x[i] = f(x[i]) + ##g5#334\n",
      "            end\n",
      "        end\n",
      "    end\n",
      "end\n"
     ]
    },
    {
     "name": "stderr",
     "output_type": "stream",
     "text": [
      "WARNING: Method definition bar(Any) in module Main at In[38]:2 overwritten at In[49]:2.\n",
      "WARNING: Method definition bar_original(Any) in module Main at In[38]:9 overwritten at In[49]:9.\n"
     ]
    },
    {
     "data": {
      "text/plain": [
       "bar_original (generic function with 1 method)"
      ]
     },
     "execution_count": 49,
     "metadata": {},
     "output_type": "execute_result"
    }
   ],
   "source": [
    "@CombinedSubexpressions.cse function bar(y)\n",
    "    x = zeros(5)\n",
    "    for i in 1:5\n",
    "        x[i] = f(x[i]) + g(5)\n",
    "    end\n",
    "end\n",
    "\n",
    "function bar_original(y)\n",
    "    x = zeros(5)\n",
    "    for i in 1:5\n",
    "        x[i] = f(x[i]) + g(5)\n",
    "    end\n",
    "end"
   ]
  },
  {
   "cell_type": "code",
   "execution_count": 50,
   "metadata": {
    "collapsed": false,
    "scrolled": false
   },
   "outputs": [
    {
     "data": {
      "text/plain": [
       "LambdaInfo template for bar(y) at In[49]:2\n",
       ":(begin \n",
       "        zeros5#333 = (Main.zeros)(5)\n",
       "        g5#334 = (Main.g)(5)\n",
       "        # meta: location In[49]\n",
       "        nothing\n",
       "        x = zeros5#333 # line 3:\n",
       "        SSAValue(0) = (Main.colon)(1,5)\n",
       "        #temp# = (Base.start)(SSAValue(0))\n",
       "        9: \n",
       "        unless !((Base.done)(SSAValue(0),#temp#)) goto 19\n",
       "        SSAValue(1) = (Base.next)(SSAValue(0),#temp#)\n",
       "        i = (Core.getfield)(SSAValue(1),1)\n",
       "        #temp# = (Core.getfield)(SSAValue(1),2) # line 4:\n",
       "        SSAValue(2) = (Main.f)((Main.getindex)(x,i)) + g5#334\n",
       "        (Main.setindex!)(x,SSAValue(2),i)\n",
       "        17: \n",
       "        goto 9\n",
       "        19: \n",
       "        # meta: pop location\n",
       "        return\n",
       "    end)"
      ]
     },
     "execution_count": 50,
     "metadata": {},
     "output_type": "execute_result"
    }
   ],
   "source": [
    "@code_lowered bar(1)"
   ]
  },
  {
   "cell_type": "code",
   "execution_count": 40,
   "metadata": {
    "collapsed": false
   },
   "outputs": [
    {
     "data": {
      "text/plain": [
       "LambdaInfo template for bar_original(y) at In[38]:9\n",
       ":(begin \n",
       "        nothing\n",
       "        x = (Main.zeros)(5) # line 10:\n",
       "        SSAValue(0) = (Main.colon)(1,5)\n",
       "        #temp# = (Base.start)(SSAValue(0))\n",
       "        6: \n",
       "        unless !((Base.done)(SSAValue(0),#temp#)) goto 16\n",
       "        SSAValue(1) = (Base.next)(SSAValue(0),#temp#)\n",
       "        i = (Core.getfield)(SSAValue(1),1)\n",
       "        #temp# = (Core.getfield)(SSAValue(1),2) # line 11:\n",
       "        SSAValue(2) = (Main.f)((Main.getindex)(x,i)) + (Main.g)(5)\n",
       "        (Main.setindex!)(x,SSAValue(2),i)\n",
       "        14: \n",
       "        goto 6\n",
       "        16: \n",
       "        return\n",
       "    end)"
      ]
     },
     "execution_count": 40,
     "metadata": {},
     "output_type": "execute_result"
    }
   ],
   "source": [
    "@code_lowered bar_original(1)"
   ]
  },
  {
   "cell_type": "code",
   "execution_count": null,
   "metadata": {
    "collapsed": true
   },
   "outputs": [],
   "source": []
  }
 ],
 "metadata": {
  "kernelspec": {
   "display_name": "Julia 0.5.0",
   "language": "julia",
   "name": "julia-0.5"
  },
  "language_info": {
   "file_extension": ".jl",
   "mimetype": "application/julia",
   "name": "julia",
   "version": "0.5.0"
  }
 },
 "nbformat": 4,
 "nbformat_minor": 1
}

{
 "cells": [
  {
   "cell_type": "code",
   "execution_count": 1,
   "metadata": {
    "collapsed": false
   },
   "outputs": [
    {
     "data": {
      "text/plain": [
       "cse"
      ]
     },
     "execution_count": 1,
     "metadata": {},
     "output_type": "execute_result"
    }
   ],
   "source": [
    "module cse\n",
    "\n",
    "using DataStructures: OrderedDict\n",
    "\n",
    "immutable CacheElement\n",
    "    name::Symbol\n",
    "    expr::Nullable{Expr}\n",
    "end\n",
    "\n",
    "typealias Cache OrderedDict{Symbol, CacheElement}\n",
    "\n",
    "cacheify!(setup, expr) = expr\n",
    "\n",
    "function cacheify!(setup::Cache, expr::Expr)\n",
    "    if expr.head == :call\n",
    "        available = all([any([arg == s.name for s in values(setup)]) for arg in expr.args])\n",
    "        if available\n",
    "            cached_name = Symbol(expr.args...)\n",
    "            if !haskey(setup, cached_name)\n",
    "                cached_varname = gensym(cached_name)\n",
    "                    setup[cached_name] = CacheElement(cached_varname, :($cached_varname = $(copy(expr))))\n",
    "            else\n",
    "                cached_varname = setup[cached_name].name\n",
    "            end\n",
    "            return cached_varname\n",
    "        end\n",
    "    end\n",
    "          \n",
    "    for (i, child) in enumerate(expr.args)\n",
    "        expr.args[i] = cacheify!(setup, child)\n",
    "    end\n",
    "    expr\n",
    "end\n",
    "    \n",
    "    disqualify_symbols!(available, disqualified, expr) = nothing\n",
    "    disqualify_symbols!(available, disqualified, expr::Symbol) = push!(disqualified, expr)\n",
    "    \n",
    "    \n",
    "    function disqualify_symbols!(available, disqualified, expr::Expr)\n",
    "        for arg in expr.args\n",
    "            disqualify_symbols!(available, disqualified, arg)\n",
    "        end\n",
    "    end\n",
    "    \n",
    "    available_leaf_symbols!(available, disqualified, expr) = nothing\n",
    "    available_leaf_symbols!(available, disqualified, expr::Symbol) = push!(available, expr)\n",
    "\n",
    "    function available_leaf_symbols!(available, disqualified, expr::Expr)\n",
    "        if expr.head == :line\n",
    "            # nothing\n",
    "        elseif expr.head == :(=)\n",
    "            disqualify_symbols!(available, disqualified, expr.args[1])\n",
    "            for arg in expr.args[2:end]\n",
    "                available_leaf_symbols!(available, disqualified, arg)\n",
    "            end\n",
    "        else\n",
    "            for arg in expr.args\n",
    "                available_leaf_symbols!(available, disqualified, arg)\n",
    "            end\n",
    "        end\n",
    "    end\n",
    "        \n",
    "    function available_leaf_symbols(expr)\n",
    "        available = Set{Symbol}()\n",
    "        disqualified = Set{Symbol}()\n",
    "        available_leaf_symbols!(available, disqualified, expr)\n",
    "        setdiff!(available, disqualified)\n",
    "    end\n",
    "    \n",
    "function cacheify(expr::Expr)\n",
    "    setup = Cache()\n",
    "        for var in available_leaf_symbols(expr)\n",
    "            setup[var] = CacheElement(var, nothing)\n",
    "        end\n",
    "    while true\n",
    "        num_setup = length(setup)\n",
    "        expr = copy(expr)\n",
    "        expr = cacheify!(setup, expr)\n",
    "        if length(setup) == num_setup\n",
    "            break\n",
    "        end\n",
    "    end\n",
    "        Expr(:block, [get(v.expr) for v in values(setup) if !isnull(v.expr)]..., expr)\n",
    "end\n",
    "\n",
    "    macro cse(expr)\n",
    "        result = cacheify(expr)\n",
    "        println(result)\n",
    "        esc(result)\n",
    "    end\n",
    "    \n",
    "\n",
    "    \n",
    "end"
   ]
  },
  {
   "cell_type": "code",
   "execution_count": 6,
   "metadata": {
    "collapsed": false
   },
   "outputs": [
    {
     "name": "stderr",
     "output_type": "stream",
     "text": [
      "WARNING: Method definition g(Any) in module Main at In[2]:2 overwritten at In[6]:2.\n",
      "WARNING: Method definition f(Any) in module Main at In[2]:7 overwritten at In[6]:7.\n"
     ]
    },
    {
     "data": {
      "text/plain": [
       "quote  # In[6], line 16:\n",
       "    [h(h(f(g(x)),g(x)),i) == i for i = 1:5]\n",
       "end"
      ]
     },
     "execution_count": 6,
     "metadata": {},
     "output_type": "execute_result"
    }
   ],
   "source": [
    "function g(x)\n",
    "    println(\"g\")\n",
    "    1\n",
    "end\n",
    "\n",
    "function f(x)\n",
    "    println(\"f\")\n",
    "    2\n",
    "end\n",
    "\n",
    "h(x, y) = 3\n",
    "\n",
    "x = 1\n",
    "\n",
    "expr = quote\n",
    "    [h(h(f(g(x)), g(x)), i) == i for i in 1:5]\n",
    "end"
   ]
  },
  {
   "cell_type": "code",
   "execution_count": 7,
   "metadata": {
    "collapsed": false
   },
   "outputs": [
    {
     "data": {
      "text/plain": [
       "quote \n",
       "    ##gx#276 = g(x)\n",
       "    ##f##gx#276#277 = f(##gx#276)\n",
       "    ##h##f##gx#276#277##gx#276#278 = h(##f##gx#276#277,##gx#276)\n",
       "    begin  # In[6], line 16:\n",
       "        [h(##h##f##gx#276#277##gx#276#278,i) == i for i = 1:5]\n",
       "    end\n",
       "end"
      ]
     },
     "execution_count": 7,
     "metadata": {},
     "output_type": "execute_result"
    }
   ],
   "source": [
    "cse.cacheify(expr)"
   ]
  },
  {
   "cell_type": "code",
   "execution_count": 8,
   "metadata": {
    "collapsed": false
   },
   "outputs": [
    {
     "name": "stdout",
     "output_type": "stream",
     "text": [
      "begin \n",
      "    ##gx#279 = g(x)\n",
      "    ##f##gx#279#280 = f(##gx#279)\n",
      "    ##f##f##gx#279#280##gx#279#281 = f(##f##gx#279#280,##gx#279)\n",
      "    begin  # In[8], line 2:\n",
      "        [f(##f##f##gx#279#280##gx#279#281,i) == i for i = 1:5]\n",
      "    end\n",
      "end\n",
      "g\n",
      "f\n"
     ]
    },
    {
     "data": {
      "text/plain": [
       "5-element Array{Bool,1}:\n",
       " false\n",
       " false\n",
       "  true\n",
       " false\n",
       " false"
      ]
     },
     "execution_count": 8,
     "metadata": {},
     "output_type": "execute_result"
    }
   ],
   "source": [
    "@cse.cse begin\n",
    "    [f(f(f(g(x)), g(x)), i) == i for i in 1:5]\n",
    "end"
   ]
  },
  {
   "cell_type": "code",
   "execution_count": null,
   "metadata": {
    "collapsed": true
   },
   "outputs": [],
   "source": []
  }
 ],
 "metadata": {
  "kernelspec": {
   "display_name": "Julia 0.5.0",
   "language": "julia",
   "name": "julia-0.5"
  },
  "language_info": {
   "file_extension": ".jl",
   "mimetype": "application/julia",
   "name": "julia",
   "version": "0.5.0"
  }
 },
 "nbformat": 4,
 "nbformat_minor": 1
}

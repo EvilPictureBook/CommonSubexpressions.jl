{
 "cells": [
  {
   "cell_type": "code",
   "execution_count": 245,
   "metadata": {
    "collapsed": false
   },
   "outputs": [
    {
     "name": "stderr",
     "output_type": "stream",
     "text": [
      "WARNING: replacing module cse\n"
     ]
    },
    {
     "data": {
      "text/plain": [
       "cse"
      ]
     },
     "execution_count": 245,
     "metadata": {},
     "output_type": "execute_result"
    }
   ],
   "source": [
    "module cse\n",
    "\n",
    "using DataStructures: OrderedDict\n",
    "\n",
    "immutable Cache\n",
    "    name_to_symbol::Dict{Symbol, Symbol}\n",
    "    symbol_to_name::Dict{Symbol, Symbol}\n",
    "    setup::Vector{Expr}\n",
    "end\n",
    "\n",
    "Cache() = Cache(Dict{Symbol,Symbol}(), Dict{Symbol,Symbol}(), Vector{Expr}())\n",
    "\n",
    "function add_element!(cache::Cache, name)\n",
    "    cache.name_to_symbol[name] = name\n",
    "    cache.symbol_to_name[name] = name\n",
    "    name\n",
    "end\n",
    "\n",
    "function add_element!(cache::Cache, name, setup::Expr)\n",
    "    sym = gensym(name)\n",
    "    cache.name_to_symbol[name] = sym\n",
    "    cache.symbol_to_name[sym] = name\n",
    "    push!(cache.setup, :($sym = $(copy(setup))))\n",
    "    sym\n",
    "end\n",
    "\n",
    "cacheify!(setup, expr) = expr\n",
    "\n",
    "function cacheify!(cache::Cache, expr::Expr)\n",
    "    if expr.head == :function\n",
    "        # We can't continue CSE through a function definition, but we can\n",
    "        # start over inside the body of the function:\n",
    "        for i in 2:length(expr.args)\n",
    "            expr.args[i] = cacheify(expr.args[i])\n",
    "        end\n",
    "        return expr\n",
    "    elseif expr.head == :line\n",
    "        return expr\n",
    "    elseif expr.head == :call\n",
    "        available = all([haskey(cache.symbol_to_name, arg) for arg in expr.args])\n",
    "        if available\n",
    "            cached_name = Symbol(expr.args...)\n",
    "            if !haskey(cache.name_to_symbol, cached_name)\n",
    "                sym = add_element!(cache, cached_name, expr)\n",
    "            else\n",
    "                sym = cache.name_to_symbol[cached_name]\n",
    "            end\n",
    "            return sym\n",
    "        end\n",
    "    end\n",
    "    for (i, child) in enumerate(expr.args)\n",
    "        expr.args[i] = cacheify!(cache, child)\n",
    "    end\n",
    "    return expr\n",
    "end\n",
    "\n",
    "classify_symbols!(available, disqualified, expr, in_assignment) = nothing\n",
    "classify_symbols!(available, disqualified, sym::Symbol, ::Val{true}) = push!(disqualified, sym)\n",
    "classify_symbols!(available, disqualified, sym::Symbol, ::Val{false}) = push!(available, sym)\n",
    "\n",
    "function classify_symbols!(available, disqualified, expr::Expr, in_assignment::Val)\n",
    "    if expr.head == :line\n",
    "        # do nothing\n",
    "    elseif expr.head == :(=)\n",
    "        # This is an assignment expression, so anything on the left hand\n",
    "        # side (that is, expr.args[1]), will be marked as disqualified from caching. \n",
    "        classify_symbols!(available, disqualified, expr.args[1], Val{true}())\n",
    "        \n",
    "        # The remaining arguments are the right hand side of the assignment,\n",
    "        # so they can still be cached.\n",
    "        for arg in expr.args[2:end]\n",
    "            classify_symbols!(available, disqualified, arg, in_assignment)\n",
    "        end\n",
    "    elseif expr.head == :function\n",
    "        # don't recurse further\n",
    "    else\n",
    "        for arg in expr.args\n",
    "            classify_symbols!(available, disqualified, arg, in_assignment)\n",
    "        end\n",
    "    end\n",
    "end\n",
    "        \n",
    "function find_input_symbols(expr)\n",
    "    available = Set{Symbol}()\n",
    "    disqualified = Set{Symbol}()\n",
    "    classify_symbols!(available, disqualified, expr, Val{false}())\n",
    "    setdiff!(available, disqualified)\n",
    "end\n",
    "    \n",
    "function cacheify(expr::Expr)\n",
    "    cache = Cache()\n",
    "    for var in find_input_symbols(expr)\n",
    "        add_element!(cache, var)\n",
    "    end\n",
    "    while true\n",
    "        num_setup = length(cache.setup)\n",
    "        expr = copy(expr)\n",
    "        expr = cacheify!(cache, expr)\n",
    "        if length(cache.setup) == num_setup\n",
    "            break\n",
    "        end\n",
    "    end\n",
    "    Expr(:block, cache.setup..., expr)\n",
    "end\n",
    "\n",
    "macro cse(expr)\n",
    "    result = cacheify(expr)\n",
    "    println(result)\n",
    "    esc(result)\n",
    "end\n",
    "    \n",
    "end"
   ]
  },
  {
   "cell_type": "code",
   "execution_count": 246,
   "metadata": {
    "collapsed": false
   },
   "outputs": [
    {
     "name": "stderr",
     "output_type": "stream",
     "text": [
      "WARNING: Method definition g(Any) in module Main at In[243]:2 overwritten at In[246]:2.\n",
      "WARNING: Method definition f(Any) in module Main at In[243]:7 overwritten at In[246]:7.\n",
      "WARNING: Method definition h(Any, Any) in module Main at In[243]:12 overwritten at In[246]:12.\n"
     ]
    },
    {
     "data": {
      "text/plain": [
       "quote  # In[246], line 19:\n",
       "    function foo(x) # In[246], line 20:\n",
       "        [h(h(f(g(x)),g(x)),i) == i for i = 1:5]\n",
       "    end\n",
       "end"
      ]
     },
     "execution_count": 246,
     "metadata": {},
     "output_type": "execute_result"
    }
   ],
   "source": [
    "function g(x)\n",
    "    println(\"g\")\n",
    "    1\n",
    "end\n",
    "\n",
    "function f(x)\n",
    "    println(\"f\")\n",
    "    2\n",
    "end\n",
    "\n",
    "function h(x, y)\n",
    "    println(\"h\")\n",
    "    3\n",
    "end\n",
    "\n",
    "x = 1\n",
    "\n",
    "expr = quote\n",
    "    function foo(x)\n",
    "        [h(h(f(g(x)), g(x)), i) == i for i in 1:5]\n",
    "    end\n",
    "end"
   ]
  },
  {
   "cell_type": "code",
   "execution_count": 247,
   "metadata": {
    "collapsed": false
   },
   "outputs": [
    {
     "data": {
      "text/plain": [
       "quote \n",
       "    begin  # In[246], line 19:\n",
       "        function foo(x)\n",
       "            ##gx#429 = g(x)\n",
       "            ##f##gx#429#430 = f(##gx#429)\n",
       "            ##h##f##gx#429#430##gx#429#431 = h(##f##gx#429#430,##gx#429)\n",
       "            begin  # In[246], line 20:\n",
       "                [h(##h##f##gx#429#430##gx#429#431,i) == i for i = 1:5]\n",
       "            end\n",
       "        end\n",
       "    end\n",
       "end"
      ]
     },
     "execution_count": 247,
     "metadata": {},
     "output_type": "execute_result"
    }
   ],
   "source": [
    "cse.cacheify(expr)"
   ]
  },
  {
   "cell_type": "code",
   "execution_count": 248,
   "metadata": {
    "collapsed": false
   },
   "outputs": [
    {
     "name": "stdout",
     "output_type": "stream",
     "text": [
      "begin \n",
      "    function foo(x)\n",
      "        ##fx#432 = f(x)\n",
      "        begin  # In[248], line 2:\n",
      "            [##fx#432 == i for i = 1:5]\n",
      "        end\n",
      "    end\n",
      "end\n"
     ]
    },
    {
     "name": "stderr",
     "output_type": "stream",
     "text": [
      "WARNING: Method definition foo(Any) in module Main at In[237]:2 overwritten at In[248]:2.\n"
     ]
    },
    {
     "data": {
      "text/plain": [
       "foo (generic function with 1 method)"
      ]
     },
     "execution_count": 248,
     "metadata": {},
     "output_type": "execute_result"
    }
   ],
   "source": [
    "@cse.cse function foo(x)\n",
    "    [f(x) == i for i in 1:5]\n",
    "end"
   ]
  },
  {
   "cell_type": "code",
   "execution_count": 249,
   "metadata": {
    "collapsed": false
   },
   "outputs": [
    {
     "name": "stdout",
     "output_type": "stream",
     "text": [
      "f\n"
     ]
    },
    {
     "data": {
      "text/plain": [
       "5-element Array{Bool,1}:\n",
       " false\n",
       "  true\n",
       " false\n",
       " false\n",
       " false"
      ]
     },
     "execution_count": 249,
     "metadata": {},
     "output_type": "execute_result"
    }
   ],
   "source": [
    "foo(1)"
   ]
  },
  {
   "cell_type": "code",
   "execution_count": 250,
   "metadata": {
    "collapsed": false
   },
   "outputs": [
    {
     "name": "stdout",
     "output_type": "stream",
     "text": [
      "begin \n",
      "    ##gx#433 = g(x)\n",
      "    ##f##gx#433#434 = f(##gx#433)\n",
      "    ##h##f##gx#433#434##gx#433#435 = h(##f##gx#433#434,##gx#433)\n",
      "    begin  # In[250], line 2:\n",
      "        [h(##h##f##gx#433#434##gx#433#435,i) == i for i = 1:5]\n",
      "    end\n",
      "end\n",
      "g\n",
      "f\n",
      "h\n",
      "h\n",
      "h\n",
      "h\n",
      "h\n",
      "h\n"
     ]
    },
    {
     "data": {
      "text/plain": [
       "5-element Array{Bool,1}:\n",
       " false\n",
       " false\n",
       "  true\n",
       " false\n",
       " false"
      ]
     },
     "execution_count": 250,
     "metadata": {},
     "output_type": "execute_result"
    }
   ],
   "source": [
    "@cse.cse begin\n",
    "    [h(h(f(g(x)), g(x)), i) == i for i in 1:5]\n",
    "end"
   ]
  },
  {
   "cell_type": "code",
   "execution_count": null,
   "metadata": {
    "collapsed": true
   },
   "outputs": [],
   "source": []
  }
 ],
 "metadata": {
  "kernelspec": {
   "display_name": "Julia 0.5.0",
   "language": "julia",
   "name": "julia-0.5"
  },
  "language_info": {
   "file_extension": ".jl",
   "mimetype": "application/julia",
   "name": "julia",
   "version": "0.5.0"
  }
 },
 "nbformat": 4,
 "nbformat_minor": 1
}
